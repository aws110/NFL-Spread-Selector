{
 "cells": [
  {
   "cell_type": "markdown",
   "metadata": {},
   "source": [
    "#NFL Spread Selector\n",
    "\n",
    "This is a deep NN uses to predict outcomes against the spread in NFL games. Data has been collected from NFL seasons from the year 2000 onward and will be edited as needed. This will be a binary classification algorithm which simply predicts whether or not to select a team based on the outlined spreads.\n",
    "\n",
    "   "
   ]
  },
  {
   "cell_type": "code",
   "execution_count": 10,
   "metadata": {},
   "outputs": [
    {
     "name": "stdout",
     "output_type": "stream",
     "text": [
      "(5105, 14)\n"
     ]
    }
   ],
   "source": [
    "import numpy as np\n",
    "filename = 'Datasets/NFL-Scores-Num-Only.csv'\n",
    "raw_data = open(filename, 'rt')\n",
    "data = np.loadtxt(raw_data, delimiter=\",\", dtype=str)\n",
    "print(data.shape)"
   ]
  },
  {
   "cell_type": "markdown",
   "metadata": {},
   "source": [
    " "
   ]
  }
 ],
 "metadata": {
  "kernelspec": {
   "display_name": "Python 3",
   "language": "python",
   "name": "python3"
  },
  "language_info": {
   "codemirror_mode": {
    "name": "ipython",
    "version": 3
   },
   "file_extension": ".py",
   "mimetype": "text/x-python",
   "name": "python",
   "nbconvert_exporter": "python",
   "pygments_lexer": "ipython3",
   "version": "3.7.2"
  }
 },
 "nbformat": 4,
 "nbformat_minor": 4
}
